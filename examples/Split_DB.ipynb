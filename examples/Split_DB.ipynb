{
 "cells": [
  {
   "cell_type": "code",
   "execution_count": 1,
   "metadata": {},
   "outputs": [],
   "source": [
    "import numpy as np\n",
    "import os\n",
    "import sys\n",
    "import matplotlib.pyplot as plt\n",
    "\n",
    "import networkx as nx\n",
    "import ase\n",
    "import ase.io\n",
    "import time\n",
    "import sqlite3 as sl\n",
    "\n",
    "import ProbAsn.utils as ut\n",
    "import ProbAsn.graph as gr"
   ]
  },
  {
   "cell_type": "code",
   "execution_count": 2,
   "metadata": {},
   "outputs": [],
   "source": [
    "db_file = \"../db/ProbAsn.db\"\n",
    "db_dir = \"../db/\"\n",
    "\n",
    "elems = [\"H\", \"C\", \"N\", \"O\"]\n",
    "\n",
    "batch_size = 1000"
   ]
  },
  {
   "cell_type": "markdown",
   "metadata": {
    "tags": []
   },
   "source": [
    "# Create DB file"
   ]
  },
  {
   "cell_type": "code",
   "execution_count": 3,
   "metadata": {},
   "outputs": [],
   "source": [
    "con = sl.connect(db_file)"
   ]
  },
  {
   "cell_type": "code",
   "execution_count": 4,
   "metadata": {},
   "outputs": [
    {
     "name": "stdout",
     "output_type": "stream",
     "text": [
      "Creating H...\n",
      "Creating H-H...\n",
      "Creating H-C...\n",
      "Creating H-N...\n",
      "Creating H-O...\n",
      "Creating C...\n",
      "Creating C-H...\n",
      "Creating C-C...\n",
      "Creating C-N...\n",
      "Creating C-O...\n",
      "Creating N...\n",
      "Creating N-H...\n",
      "Creating N-C...\n",
      "Creating N-N...\n",
      "Creating N-O...\n",
      "Creating O...\n",
      "Creating O-H...\n",
      "Creating O-C...\n",
      "Creating O-N...\n",
      "Creating O-O...\n"
     ]
    }
   ],
   "source": [
    "for e1 in elems:\n",
    "    \n",
    "    print(f\"Creating {e1}...\")\n",
    "    \n",
    "    with con:\n",
    "        data = con.execute(f\"\"\"SELECT * from {e1}\"\"\").fetchall()\n",
    "    \n",
    "    con2 = sl.connect(f\"{db_dir}ProbAsn_{e1}.db\")\n",
    "    with con2:\n",
    "        con2.execute(f\"\"\"\n",
    "            CREATE TABLE {e1} (\n",
    "                env VARCHAR(16),\n",
    "                crystal VARCHAR(16),\n",
    "                ind UNSIGNED INTEGER,\n",
    "                shift FLOAT,\n",
    "                err FLOAT,\n",
    "                G2 VARCHAR(32),\n",
    "                G3 VARCHAR(32),\n",
    "                G4 VARCHAR(32),\n",
    "                G5 VARCHAR(32),\n",
    "                G6 VARCHAR(32)\n",
    "            );\n",
    "        \"\"\")\n",
    "    \n",
    "    n_batch = len(data) // batch_size + int(len(data) / batch_size > len(data) // batch_size)\n",
    "    \n",
    "    for ibatch in range(n_batch):\n",
    "        \n",
    "        pp = f\"INSERT INTO {e1} (env, crystal, ind, shift, err, G2, G3, G4, G5, G6)\\nVALUES\\n\"\n",
    "    \n",
    "        for env, crystal, i, cs, err, h0, h1, h2, h3, h4 in data[ibatch*batch_size:(ibatch+1)*batch_size]:\n",
    "            \n",
    "            pp += f\"('{env}', '{crystal}', {i}, {cs}, {err}, '{h0}', '{h1}', '{h2}', '{h3}', '{h4}'),\\n\"\n",
    "\n",
    "        pp = pp[:-2] + \";\"\n",
    "\n",
    "        with con2:\n",
    "            con2.execute(pp)\n",
    "        \n",
    "    con2.commit()\n",
    "    con2.close()\n",
    "    \n",
    "    for e2 in elems:\n",
    "        \n",
    "        print(f\"Creating {e1}-{e2}...\")\n",
    "        \n",
    "        with con:\n",
    "            data = con.execute(f\"\"\"SELECT * from {e1}_{e2}\"\"\").fetchall()\n",
    "\n",
    "        con2 = sl.connect(f\"{db_dir}ProbAsn_{e1}-{e2}.db\")\n",
    "        with con2:\n",
    "            con2.execute(f\"\"\"\n",
    "                CREATE TABLE {e1}_{e2} (\n",
    "                    env VARCHAR(16),\n",
    "                    crystal VARCHAR(16),\n",
    "                    ind UNSIGNED INTEGER,\n",
    "                    shift FLOAT,\n",
    "                    err FLOAT,\n",
    "                    nei_ind UNSIGNED INTEGER,\n",
    "                    nei_shift FLOAT,\n",
    "                    nei_err FLOAT,\n",
    "                    G2 VARCHAR(32),\n",
    "                    G3 VARCHAR(32),\n",
    "                    G4 VARCHAR(32),\n",
    "                    G5 VARCHAR(32),\n",
    "                    G6 VARCHAR(32)\n",
    "                );\n",
    "            \"\"\")\n",
    "        \n",
    "        n_batch = len(data) // batch_size + int(len(data) / batch_size > len(data) // batch_size)\n",
    "\n",
    "        for ibatch in range(n_batch):\n",
    "\n",
    "            pp = f\"INSERT INTO {e1}_{e2} (env, crystal, ind, shift, err, nei_ind, nei_shift, nei_err, G2, G3, G4, G5, G6)\\nVALUES\\n\"\n",
    "\n",
    "            for env, crystal, i, cs, err, inei, csnei, errnei, h0, h1, h2, h3, h4 in data[ibatch*batch_size:(ibatch+1)*batch_size]:\n",
    "\n",
    "                pp += f\"('{env}', '{crystal}', {i}, {cs}, {err}, {inei}, {csnei}, {errnei}, '{h0}', '{h1}', '{h2}', '{h3}', '{h4}'),\\n\"\n",
    "\n",
    "            pp = pp[:-2] + \";\"\n",
    "\n",
    "            with con2:\n",
    "                con2.execute(pp)\n",
    "\n",
    "        con2.commit()\n",
    "        con2.close()"
   ]
  },
  {
   "cell_type": "code",
   "execution_count": 5,
   "metadata": {},
   "outputs": [],
   "source": [
    "con.close()"
   ]
  },
  {
   "cell_type": "code",
   "execution_count": null,
   "metadata": {},
   "outputs": [],
   "source": []
  }
 ],
 "metadata": {
  "kernelspec": {
   "display_name": "ProbAsn",
   "language": "python",
   "name": "probasn"
  },
  "language_info": {
   "codemirror_mode": {
    "name": "ipython",
    "version": 3
   },
   "file_extension": ".py",
   "mimetype": "text/x-python",
   "name": "python",
   "nbconvert_exporter": "python",
   "pygments_lexer": "ipython3",
   "version": "3.10.4"
  }
 },
 "nbformat": 4,
 "nbformat_minor": 4
}
